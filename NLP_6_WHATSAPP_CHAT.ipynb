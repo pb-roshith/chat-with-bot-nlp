{
  "nbformat": 4,
  "nbformat_minor": 0,
  "metadata": {
    "colab": {
      "provenance": [],
      "gpuType": "T4",
      "authorship_tag": "ABX9TyNS2vu4XK8uLqmQuy3Kbsmj",
      "include_colab_link": true
    },
    "kernelspec": {
      "name": "python3",
      "display_name": "Python 3"
    },
    "language_info": {
      "name": "python"
    },
    "accelerator": "GPU"
  },
  "cells": [
    {
      "cell_type": "markdown",
      "metadata": {
        "id": "view-in-github",
        "colab_type": "text"
      },
      "source": [
        "<a href=\"https://colab.research.google.com/github/pb-roshith/chat-with-bot-nlp/blob/main/NLP_6_WHATSAPP_CHAT.ipynb\" target=\"_parent\"><img src=\"https://colab.research.google.com/assets/colab-badge.svg\" alt=\"Open In Colab\"/></a>"
      ]
    },
    {
      "cell_type": "code",
      "execution_count": null,
      "metadata": {
        "colab": {
          "base_uri": "https://localhost:8080/"
        },
        "id": "b8GgwO8_gAPc",
        "outputId": "d390b81d-1502-4fec-ec4e-40a88dcf2972"
      },
      "outputs": [
        {
          "output_type": "stream",
          "name": "stderr",
          "text": [
            "[nltk_data] Downloading package stopwords to /root/nltk_data...\n",
            "[nltk_data]   Unzipping corpora/stopwords.zip.\n",
            "[nltk_data] Downloading package punkt to /root/nltk_data...\n",
            "[nltk_data]   Unzipping tokenizers/punkt.zip.\n"
          ]
        },
        {
          "output_type": "execute_result",
          "data": {
            "text/plain": [
              "True"
            ]
          },
          "metadata": {},
          "execution_count": 2
        }
      ],
      "source": [
        "import nltk\n",
        "from nltk.corpus import stopwords\n",
        "from nltk.tokenize import word_tokenize\n",
        "nltk.download('stopwords')\n",
        "nltk.download('punkt')"
      ]
    },
    {
      "cell_type": "code",
      "source": [
        "conversation = \"Hello! How are you?\\nI'm doing well, thanks! What about you?\"\n",
        "tokens = word_tokenize(conversation.lower())\n",
        "stop_words = set(stopwords.words('english'))\n",
        "filtered_tokens = [word for word in tokens if word.isalnum() and word not in stop_words]"
      ],
      "metadata": {
        "id": "qQswZXCeg0hi"
      },
      "execution_count": null,
      "outputs": []
    },
    {
      "cell_type": "code",
      "source": [
        "from nltk.chat.util import Chat, reflections\n",
        "pairs = [\n",
        "['(hi|hello|hey)', ['Hello!', 'Hi there!', 'Hey!']],\n",
        "['how are you', ['I am doing well, thank you. How about you?']],\n",
        "['(.*)', ['I am just a chatbot, not capable of understanding that.']],\n",
        "]"
      ],
      "metadata": {
        "id": "J5JPdKs8g0lz"
      },
      "execution_count": null,
      "outputs": []
    },
    {
      "cell_type": "code",
      "source": [
        "chatbot = Chat(pairs, reflections)\n",
        "user_message = \"How are you?\"\n",
        "response = chatbot.respond(user_message)\n",
        "print(response)"
      ],
      "metadata": {
        "colab": {
          "base_uri": "https://localhost:8080/"
        },
        "id": "rOPkNY4BhBWw",
        "outputId": "8d28f107-1cec-4bc1-e898-edffbe575520"
      },
      "execution_count": null,
      "outputs": [
        {
          "output_type": "stream",
          "name": "stdout",
          "text": [
            "I am doing well, thank you. How about you?\n"
          ]
        }
      ]
    }
  ]
}